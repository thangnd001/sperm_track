{
  "nbformat": 4,
  "nbformat_minor": 0,
  "metadata": {
    "colab": {
      "provenance": []
    },
    "kernelspec": {
      "name": "python3",
      "display_name": "Python 3"
    },
    "language_info": {
      "name": "python"
    },
    "gpuClass": "standard",
    "accelerator": "GPU"
  },
  "cells": [
    {
      "cell_type": "code",
      "source": [
        "from google.colab import drive\n",
        "drive.mount('/content/drive')"
      ],
      "metadata": {
        "colab": {
          "base_uri": "https://localhost:8080/"
        },
        "id": "HosyFh1QicvQ",
        "outputId": "283acee7-9aa1-46fa-f02f-53e565420a1d"
      },
      "execution_count": null,
      "outputs": [
        {
          "output_type": "stream",
          "name": "stdout",
          "text": [
            "Mounted at /content/drive\n"
          ]
        }
      ]
    },
    {
      "cell_type": "code",
      "execution_count": null,
      "metadata": {
        "id": "bsie7vZSiU6U",
        "colab": {
          "base_uri": "https://localhost:8080/"
        },
        "outputId": "8a905d69-a18a-426a-dff4-ea3c09674a48"
      },
      "outputs": [
        {
          "output_type": "stream",
          "name": "stdout",
          "text": [
            "/content/drive/MyDrive/manhquang/haui/human-sperm\n",
            "Cloning into 'human-sperm-classification'...\n",
            "remote: Enumerating objects: 188, done.\u001b[K\n",
            "remote: Counting objects: 100% (188/188), done.\u001b[K\n",
            "remote: Compressing objects: 100% (111/111), done.\u001b[K\n",
            "remote: Total 188 (delta 92), reused 150 (delta 67), pack-reused 0\u001b[K\n",
            "Receiving objects: 100% (188/188), 3.24 MiB | 16.83 MiB/s, done.\n",
            "Resolving deltas: 100% (92/92), done.\n"
          ]
        }
      ],
      "source": [
        "%cd /content/drive/MyDrive/manhquang/haui/human-sperm\n",
        "%rm -rf human-sperm-classification\n",
        "!git clone https://github.com/DoManhQuang/human-sperm-classification.git"
      ]
    },
    {
      "cell_type": "code",
      "source": [
        "%cd /content/drive/MyDrive/manhquang/haui/human-sperm/human-sperm-classification\n",
        "!pip install -r requirement.txt"
      ],
      "metadata": {
        "id": "f2MIM3se_CuE"
      },
      "execution_count": null,
      "outputs": []
    },
    {
      "cell_type": "code",
      "source": [
        "%cd /content/drive/MyDrive/manhquang/haui/human-sperm/human-sperm-classification\n",
        "!python tools/kfold.py \\\n",
        "-ep 300 -bsize 64 -verbose 1 \\\n",
        "-train \"/content/drive/MyDrive/manhquang/haui/human-sperm/dataset/scian/dataset/scian_datatrain.data\" \\\n",
        "-test \"/content/drive/MyDrive/manhquang/haui/human-sperm/dataset/scian/dataset/scian_datatest.data\" \\\n",
        "-name \"scian-hsc-v1.0\" \\\n",
        "-nk 10 -ck 1 \\\n",
        "--activation_block \"LeakyReLU\" \\\n",
        "-v \"LeakyReLU-version-0.1\" \\\n",
        "--mode_model \"hsc-v1\" \\\n",
        "--k_fold_path \"/content/drive/MyDrive/manhquang/haui/human-sperm/runs/k-fold\" \\\n",
        "--result_path \"/content/drive/MyDrive/manhquang/haui/human-sperm/runs/results\""
      ],
      "metadata": {
        "id": "GNt70DDKABpO"
      },
      "execution_count": null,
      "outputs": []
    }
  ]
}